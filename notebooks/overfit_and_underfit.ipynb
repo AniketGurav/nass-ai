{
 "cells": [
  {
   "cell_type": "markdown",
   "metadata": {
    "colab_type": "text",
    "id": "fTFj8ft5dlbS"
   },
   "source": [
    "##### Copyright 2018 The TensorFlow Authors."
   ]
  },
  {
   "cell_type": "code",
   "execution_count": 0,
   "metadata": {
    "cellView": "form",
    "colab": {},
    "colab_type": "code",
    "id": "lzyBOpYMdp3F"
   },
   "outputs": [],
   "source": [
    "#@title Licensed under the Apache License, Version 2.0 (the \"License\");\n",
    "# you may not use this file except in compliance with the License.\n",
    "# You may obtain a copy of the License at\n",
    "#\n",
    "# https://www.apache.org/licenses/LICENSE-2.0\n",
    "#\n",
    "# Unless required by applicable law or agreed to in writing, software\n",
    "# distributed under the License is distributed on an \"AS IS\" BASIS,\n",
    "# WITHOUT WARRANTIES OR CONDITIONS OF ANY KIND, either express or implied.\n",
    "# See the License for the specific language governing permissions and\n",
    "# limitations under the License."
   ]
  },
  {
   "cell_type": "code",
   "execution_count": 0,
   "metadata": {
    "cellView": "form",
    "colab": {},
    "colab_type": "code",
    "id": "m_x4KfSJ7Vt7"
   },
   "outputs": [],
   "source": [
    "#@title MIT License\n",
    "#\n",
    "# Copyright (c) 2017 François Chollet\n",
    "#\n",
    "# Permission is hereby granted, free of charge, to any person obtaining a\n",
    "# copy of this software and associated documentation files (the \"Software\"),\n",
    "# to deal in the Software without restriction, including without limitation\n",
    "# the rights to use, copy, modify, merge, publish, distribute, sublicense,\n",
    "# and/or sell copies of the Software, and to permit persons to whom the\n",
    "# Software is furnished to do so, subject to the following conditions:\n",
    "#\n",
    "# The above copyright notice and this permission notice shall be included in\n",
    "# all copies or substantial portions of the Software.\n",
    "#\n",
    "# THE SOFTWARE IS PROVIDED \"AS IS\", WITHOUT WARRANTY OF ANY KIND, EXPRESS OR\n",
    "# IMPLIED, INCLUDING BUT NOT LIMITED TO THE WARRANTIES OF MERCHANTABILITY,\n",
    "# FITNESS FOR A PARTICULAR PURPOSE AND NONINFRINGEMENT. IN NO EVENT SHALL\n",
    "# THE AUTHORS OR COPYRIGHT HOLDERS BE LIABLE FOR ANY CLAIM, DAMAGES OR OTHER\n",
    "# LIABILITY, WHETHER IN AN ACTION OF CONTRACT, TORT OR OTHERWISE, ARISING\n",
    "# FROM, OUT OF OR IN CONNECTION WITH THE SOFTWARE OR THE USE OR OTHER\n",
    "# DEALINGS IN THE SOFTWARE."
   ]
  },
  {
   "cell_type": "markdown",
   "metadata": {
    "colab_type": "text",
    "id": "C9HmC2T4ld5B"
   },
   "source": [
    "# Explore overfitting and underfitting"
   ]
  },
  {
   "cell_type": "markdown",
   "metadata": {
    "colab_type": "text",
    "id": "kRTxFhXAlnl1"
   },
   "source": [
    "<table class=\"tfo-notebook-buttons\" align=\"left\">\n",
    "  <td>\n",
    "    <a target=\"_blank\" href=\"https://www.tensorflow.org/tutorials/keras/overfit_and_underfit\"><img src=\"https://www.tensorflow.org/images/tf_logo_32px.png\" />View on TensorFlow.org</a>\n",
    "  </td>\n",
    "  <td>\n",
    "    <a target=\"_blank\" href=\"https://colab.research.google.com/github/tensorflow/docs/blob/r2.0rc/site/en/tutorials/keras/overfit_and_underfit.ipynb\"><img src=\"https://www.tensorflow.org/images/colab_logo_32px.png\" />Run in Google Colab</a>\n",
    "  </td>\n",
    "  <td>\n",
    "    <a target=\"_blank\" href=\"https://github.com/tensorflow/docs/blob/r2.0rc/site/en/tutorials/keras/overfit_and_underfit.ipynb\"><img src=\"https://www.tensorflow.org/images/GitHub-Mark-32px.png\" />View source on GitHub</a>\n",
    "  </td>\n",
    "</table>"
   ]
  },
  {
   "cell_type": "markdown",
   "metadata": {
    "colab_type": "text",
    "id": "19rPukKZsPG6"
   },
   "source": [
    "As always, the code in this example will use the `tf.keras` API, which you can learn more about in the TensorFlow [Keras guide](https://www.tensorflow.org/guide/keras).\n",
    "\n",
    "In both of the previous examples—classifying movie reviews, and predicting fuel efficiency—we saw that the accuracy of our model on the validation data would peak after training for a number of epochs, and would then start decreasing.\n",
    "\n",
    "In other words, our model would *overfit* to the training data. Learning how to deal with overfitting is important. Although it's often possible to achieve high accuracy on the *training set*, what we really want is to develop models that generalize well to a *testing set* (or data they haven't seen before).\n",
    "\n",
    "The opposite of overfitting is *underfitting*. Underfitting occurs when there is still room for improvement on the test data. This can happen for a number of reasons: If the model is not powerful enough, is over-regularized, or has simply not been trained long enough. This means the network has not learned the relevant patterns in the training data.\n",
    "\n",
    "If you train for too long though, the model will start to overfit and learn patterns from the training data that don't generalize to the test data. We need to strike a balance. Understanding how to train for an appropriate number of epochs as we'll explore below is a useful skill.\n",
    "\n",
    "To prevent overfitting, the best solution is to use more training data. A model trained on more data will naturally generalize better. When that is no longer possible, the next best solution is to use techniques like regularization. These place constraints on the quantity and type of information your model can store.  If a network can only afford to memorize a small number of patterns, the optimization process will force it to focus on the most prominent patterns, which have a better chance of generalizing well.\n",
    "\n",
    "In this notebook, we'll explore two common regularization techniques—weight regularization and dropout—and use them to improve our IMDB movie review classification notebook."
   ]
  },
  {
   "cell_type": "code",
   "execution_count": 1,
   "metadata": {
    "colab": {},
    "colab_type": "code",
    "id": "5pZ8A2liqvgk"
   },
   "outputs": [
    {
     "name": "stdout",
     "output_type": "stream",
     "text": [
      "1.14.0\n"
     ]
    }
   ],
   "source": [
    "from __future__ import absolute_import, division, print_function, unicode_literals\n",
    "\n",
    "import tensorflow as tf\n",
    "from tensorflow import keras\n",
    "\n",
    "import numpy as np\n",
    "import matplotlib.pyplot as plt\n",
    "\n",
    "print(tf.__version__)"
   ]
  },
  {
   "cell_type": "markdown",
   "metadata": {
    "colab_type": "text",
    "id": "1cweoTiruj8O"
   },
   "source": [
    "## Download the IMDB dataset\n",
    "\n",
    "Rather than using an embedding as in the previous notebook, here we will multi-hot encode the sentences. This model will quickly overfit to the training set. It will be used to demonstrate when overfitting occurs, and how to fight it.\n",
    "\n",
    "Multi-hot-encoding our lists means turning them into vectors of 0s and 1s. Concretely, this would mean for instance turning the sequence  `[3, 5]` into a 10,000-dimensional vector that would be all-zeros except for indices 3 and 5, which would be ones."
   ]
  },
  {
   "cell_type": "code",
   "execution_count": 3,
   "metadata": {
    "colab": {},
    "colab_type": "code",
    "id": "QpzE4iqZtJly"
   },
   "outputs": [
    {
     "name": "stdout",
     "output_type": "stream",
     "text": [
      "Downloading data from https://storage.googleapis.com/tensorflow/tf-keras-datasets/imdb.npz\n",
      "17465344/17464789 [==============================] - 1103s 63us/step\n"
     ]
    }
   ],
   "source": [
    "NUM_WORDS = 10000\n",
    "\n",
    "(train_data, train_labels), (test_data, test_labels) = keras.datasets.imdb.load_data(num_words=NUM_WORDS)\n",
    "\n",
    "def multi_hot_sequences(sequences, dimension):\n",
    "    # Create an all-zero matrix of shape (len(sequences), dimension)\n",
    "    results = np.zeros((len(sequences), dimension))\n",
    "    for i, word_indices in enumerate(sequences):\n",
    "        results[i, word_indices] = 1.0  # set specific indices of results[i] to 1s\n",
    "    return results\n",
    "\n",
    "\n",
    "train_data = multi_hot_sequences(train_data, dimension=NUM_WORDS)\n",
    "test_data = multi_hot_sequences(test_data, dimension=NUM_WORDS)"
   ]
  },
  {
   "cell_type": "markdown",
   "metadata": {
    "colab_type": "text",
    "id": "MzWVeXe3NBTn"
   },
   "source": [
    "Let's look at one of the resulting multi-hot vectors. The word indices are sorted by frequency, so it is expected that there are more 1-values near index zero, as we can see in this plot:"
   ]
  },
  {
   "cell_type": "code",
   "execution_count": 0,
   "metadata": {
    "colab": {},
    "colab_type": "code",
    "id": "71kr5rG4LkGM"
   },
   "outputs": [],
   "source": [
    "plt.plot(train_data[0])"
   ]
  },
  {
   "cell_type": "markdown",
   "metadata": {
    "colab_type": "text",
    "id": "lglk41MwvU5o"
   },
   "source": [
    "## Demonstrate overfitting\n",
    "\n",
    "The simplest way to prevent overfitting is to reduce the size of the model, i.e. the number of learnable parameters in the model (which is determined by the number of layers and the number of units per layer). In deep learning, the number of learnable parameters in a model is often referred to as the model's \"capacity\". Intuitively, a model with more parameters will have more \"memorization capacity\" and therefore will be able to easily learn a perfect dictionary-like mapping between training samples and their targets, a mapping without any generalization power, but this would be useless when making predictions on previously unseen data.\n",
    "\n",
    "Always keep this in mind: deep learning models tend to be good at fitting to the training data, but the real challenge is generalization, not fitting.\n",
    "\n",
    "On the other hand, if the network has limited memorization resources, it will not be able to learn the mapping as easily. To minimize its loss, it will have to learn compressed representations that have more predictive power. At the same time, if you make your model too small, it will have difficulty fitting to the training data. There is a balance between \"too much capacity\" and \"not enough capacity\".\n",
    "\n",
    "Unfortunately, there is no magical formula to determine the right size or architecture of your model (in terms of the number of layers, or the right size for each layer). You will have to experiment using a series of different architectures.\n",
    "\n",
    "To find an appropriate model size, it's best to start with relatively few layers and parameters, then begin increasing the size of the layers or adding new layers until you see diminishing returns on the validation loss. Let's try this on our movie review classification network.\n",
    "\n",
    "We'll create a simple model using only ```Dense``` layers as a baseline, then create smaller and larger versions, and compare them."
   ]
  },
  {
   "cell_type": "markdown",
   "metadata": {
    "colab_type": "text",
    "id": "_ReKHdC2EgVu"
   },
   "source": [
    "### Create a baseline model"
   ]
  },
  {
   "cell_type": "code",
   "execution_count": 4,
   "metadata": {
    "colab": {},
    "colab_type": "code",
    "id": "QKgdXPx9usBa"
   },
   "outputs": [
    {
     "name": "stderr",
     "output_type": "stream",
     "text": [
      "WARNING: Logging before flag parsing goes to stderr.\n",
      "W0906 22:33:16.854406 4621379008 deprecation.py:506] From /Users/Olamilekan/miniconda3/envs/mlbook/lib/python3.7/site-packages/tensorflow/python/ops/init_ops.py:1251: calling VarianceScaling.__init__ (from tensorflow.python.ops.init_ops) with dtype is deprecated and will be removed in a future version.\n",
      "Instructions for updating:\n",
      "Call initializer instance with the dtype argument instead of passing it to the constructor\n",
      "W0906 22:33:17.073292 4621379008 deprecation.py:323] From /Users/Olamilekan/miniconda3/envs/mlbook/lib/python3.7/site-packages/tensorflow/python/ops/nn_impl.py:180: add_dispatch_support.<locals>.wrapper (from tensorflow.python.ops.array_ops) is deprecated and will be removed in a future version.\n",
      "Instructions for updating:\n",
      "Use tf.where in 2.0, which has the same broadcast rule as np.where\n"
     ]
    },
    {
     "name": "stdout",
     "output_type": "stream",
     "text": [
      "Model: \"sequential\"\n",
      "_________________________________________________________________\n",
      "Layer (type)                 Output Shape              Param #   \n",
      "=================================================================\n",
      "dense (Dense)                (None, 16)                160016    \n",
      "_________________________________________________________________\n",
      "dense_1 (Dense)              (None, 16)                272       \n",
      "_________________________________________________________________\n",
      "dense_2 (Dense)              (None, 1)                 17        \n",
      "=================================================================\n",
      "Total params: 160,305\n",
      "Trainable params: 160,305\n",
      "Non-trainable params: 0\n",
      "_________________________________________________________________\n"
     ]
    }
   ],
   "source": [
    "baseline_model = keras.Sequential([\n",
    "    # `input_shape` is only required here so that `.summary` works.\n",
    "    keras.layers.Dense(16, activation=tf.nn.relu, input_shape=(NUM_WORDS,)),\n",
    "    keras.layers.Dense(16, activation=tf.nn.relu),\n",
    "    keras.layers.Dense(1, activation=tf.nn.sigmoid)\n",
    "])\n",
    "\n",
    "baseline_model.compile(optimizer='adam',\n",
    "                       loss='binary_crossentropy',\n",
    "                       metrics=['accuracy', 'binary_crossentropy'])\n",
    "\n",
    "baseline_model.summary()"
   ]
  },
  {
   "cell_type": "code",
   "execution_count": 5,
   "metadata": {
    "colab": {},
    "colab_type": "code",
    "id": "LqG3MXF5xSjR"
   },
   "outputs": [
    {
     "name": "stdout",
     "output_type": "stream",
     "text": [
      "Train on 25000 samples, validate on 25000 samples\n",
      "Epoch 1/20\n",
      "25000/25000 - 11s - loss: 0.4892 - acc: 0.8060 - binary_crossentropy: 0.4892 - val_loss: 0.3365 - val_acc: 0.8756 - val_binary_crossentropy: 0.3365\n",
      "Epoch 2/20\n",
      "25000/25000 - 6s - loss: 0.2490 - acc: 0.9118 - binary_crossentropy: 0.2490 - val_loss: 0.2847 - val_acc: 0.8878 - val_binary_crossentropy: 0.2847\n",
      "Epoch 3/20\n",
      "25000/25000 - 6s - loss: 0.1804 - acc: 0.9368 - binary_crossentropy: 0.1804 - val_loss: 0.2929 - val_acc: 0.8832 - val_binary_crossentropy: 0.2929\n",
      "Epoch 4/20\n",
      "25000/25000 - 7s - loss: 0.1445 - acc: 0.9507 - binary_crossentropy: 0.1445 - val_loss: 0.3279 - val_acc: 0.8730 - val_binary_crossentropy: 0.3279\n",
      "Epoch 5/20\n",
      "25000/25000 - 7s - loss: 0.1167 - acc: 0.9618 - binary_crossentropy: 0.1167 - val_loss: 0.3406 - val_acc: 0.8745 - val_binary_crossentropy: 0.3406\n",
      "Epoch 6/20\n",
      "25000/25000 - 6s - loss: 0.0941 - acc: 0.9710 - binary_crossentropy: 0.0941 - val_loss: 0.3706 - val_acc: 0.8700 - val_binary_crossentropy: 0.3706\n",
      "Epoch 7/20\n",
      "25000/25000 - 6s - loss: 0.0756 - acc: 0.9788 - binary_crossentropy: 0.0756 - val_loss: 0.4107 - val_acc: 0.8677 - val_binary_crossentropy: 0.4107\n",
      "Epoch 8/20\n",
      "25000/25000 - 5s - loss: 0.0615 - acc: 0.9846 - binary_crossentropy: 0.0615 - val_loss: 0.4513 - val_acc: 0.8640 - val_binary_crossentropy: 0.4513\n",
      "Epoch 9/20\n",
      "25000/25000 - 6s - loss: 0.0475 - acc: 0.9901 - binary_crossentropy: 0.0475 - val_loss: 0.4865 - val_acc: 0.8616 - val_binary_crossentropy: 0.4865\n",
      "Epoch 10/20\n",
      "25000/25000 - 6s - loss: 0.0383 - acc: 0.9923 - binary_crossentropy: 0.0383 - val_loss: 0.5312 - val_acc: 0.8590 - val_binary_crossentropy: 0.5312\n",
      "Epoch 11/20\n",
      "25000/25000 - 6s - loss: 0.0289 - acc: 0.9955 - binary_crossentropy: 0.0289 - val_loss: 0.5740 - val_acc: 0.8572 - val_binary_crossentropy: 0.5740\n",
      "Epoch 12/20\n",
      "25000/25000 - 6s - loss: 0.0218 - acc: 0.9973 - binary_crossentropy: 0.0218 - val_loss: 0.6132 - val_acc: 0.8565 - val_binary_crossentropy: 0.6132\n",
      "Epoch 13/20\n",
      "25000/25000 - 6s - loss: 0.0166 - acc: 0.9985 - binary_crossentropy: 0.0166 - val_loss: 0.6504 - val_acc: 0.8549 - val_binary_crossentropy: 0.6504\n",
      "Epoch 14/20\n",
      "25000/25000 - 6s - loss: 0.0126 - acc: 0.9993 - binary_crossentropy: 0.0126 - val_loss: 0.6924 - val_acc: 0.8530 - val_binary_crossentropy: 0.6924\n",
      "Epoch 15/20\n",
      "25000/25000 - 5s - loss: 0.0098 - acc: 0.9997 - binary_crossentropy: 0.0098 - val_loss: 0.7231 - val_acc: 0.8544 - val_binary_crossentropy: 0.7231\n",
      "Epoch 16/20\n",
      "25000/25000 - 6s - loss: 0.0077 - acc: 0.9998 - binary_crossentropy: 0.0077 - val_loss: 0.7556 - val_acc: 0.8529 - val_binary_crossentropy: 0.7556\n",
      "Epoch 17/20\n",
      "25000/25000 - 7s - loss: 0.0062 - acc: 0.9999 - binary_crossentropy: 0.0062 - val_loss: 0.7842 - val_acc: 0.8530 - val_binary_crossentropy: 0.7842\n",
      "Epoch 18/20\n",
      "25000/25000 - 7s - loss: 0.0050 - acc: 0.9999 - binary_crossentropy: 0.0050 - val_loss: 0.8164 - val_acc: 0.8517 - val_binary_crossentropy: 0.8164\n",
      "Epoch 19/20\n",
      "25000/25000 - 7s - loss: 0.0041 - acc: 1.0000 - binary_crossentropy: 0.0041 - val_loss: 0.8427 - val_acc: 0.8522 - val_binary_crossentropy: 0.8427\n",
      "Epoch 20/20\n",
      "25000/25000 - 7s - loss: 0.0035 - acc: 1.0000 - binary_crossentropy: 0.0035 - val_loss: 0.8690 - val_acc: 0.8520 - val_binary_crossentropy: 0.8690\n"
     ]
    }
   ],
   "source": [
    "baseline_history = baseline_model.fit(train_data,\n",
    "                                      train_labels,\n",
    "                                      epochs=20,\n",
    "                                      batch_size=512,\n",
    "                                      validation_data=(test_data, test_labels),\n",
    "                                      verbose=2)"
   ]
  },
  {
   "cell_type": "markdown",
   "metadata": {
    "colab_type": "text",
    "id": "L-DGRBbGxI6G"
   },
   "source": [
    "### Create a smaller model"
   ]
  },
  {
   "cell_type": "markdown",
   "metadata": {
    "colab_type": "text",
    "id": "SrfoVQheYSO5"
   },
   "source": [
    "Let's create a model with less hidden units to compare against the baseline model that we just created:"
   ]
  },
  {
   "cell_type": "code",
   "execution_count": 6,
   "metadata": {
    "colab": {},
    "colab_type": "code",
    "id": "jksi-XtaxDAh"
   },
   "outputs": [
    {
     "name": "stdout",
     "output_type": "stream",
     "text": [
      "Model: \"sequential_1\"\n",
      "_________________________________________________________________\n",
      "Layer (type)                 Output Shape              Param #   \n",
      "=================================================================\n",
      "dense_3 (Dense)              (None, 4)                 40004     \n",
      "_________________________________________________________________\n",
      "dense_4 (Dense)              (None, 4)                 20        \n",
      "_________________________________________________________________\n",
      "dense_5 (Dense)              (None, 1)                 5         \n",
      "=================================================================\n",
      "Total params: 40,029\n",
      "Trainable params: 40,029\n",
      "Non-trainable params: 0\n",
      "_________________________________________________________________\n"
     ]
    }
   ],
   "source": [
    "smaller_model = keras.Sequential([\n",
    "    keras.layers.Dense(4, activation=tf.nn.relu, input_shape=(NUM_WORDS,)),\n",
    "    keras.layers.Dense(4, activation=tf.nn.relu),\n",
    "    keras.layers.Dense(1, activation=tf.nn.sigmoid)\n",
    "])\n",
    "\n",
    "smaller_model.compile(optimizer='adam',\n",
    "                loss='binary_crossentropy',\n",
    "                metrics=['accuracy', 'binary_crossentropy'])\n",
    "\n",
    "smaller_model.summary()"
   ]
  },
  {
   "cell_type": "markdown",
   "metadata": {
    "colab_type": "text",
    "id": "jbngCZliYdma"
   },
   "source": [
    "And train the model using the same data:"
   ]
  },
  {
   "cell_type": "code",
   "execution_count": 7,
   "metadata": {
    "colab": {},
    "colab_type": "code",
    "id": "Ofn1AwDhx-Fe"
   },
   "outputs": [
    {
     "name": "stdout",
     "output_type": "stream",
     "text": [
      "Train on 25000 samples, validate on 25000 samples\n",
      "Epoch 1/20\n",
      "25000/25000 - 7s - loss: 0.6473 - acc: 0.7434 - binary_crossentropy: 0.6473 - val_loss: 0.5881 - val_acc: 0.8304 - val_binary_crossentropy: 0.5881\n",
      "Epoch 2/20\n",
      "25000/25000 - 6s - loss: 0.5046 - acc: 0.8564 - binary_crossentropy: 0.5046 - val_loss: 0.4517 - val_acc: 0.8519 - val_binary_crossentropy: 0.4517\n",
      "Epoch 3/20\n",
      "25000/25000 - 5s - loss: 0.3699 - acc: 0.8816 - binary_crossentropy: 0.3699 - val_loss: 0.3584 - val_acc: 0.8711 - val_binary_crossentropy: 0.3584\n",
      "Epoch 4/20\n",
      "25000/25000 - 4s - loss: 0.2867 - acc: 0.9018 - binary_crossentropy: 0.2867 - val_loss: 0.3123 - val_acc: 0.8805 - val_binary_crossentropy: 0.3123\n",
      "Epoch 5/20\n",
      "25000/25000 - 4s - loss: 0.2380 - acc: 0.9172 - binary_crossentropy: 0.2380 - val_loss: 0.2923 - val_acc: 0.8853 - val_binary_crossentropy: 0.2923\n",
      "Epoch 6/20\n",
      "25000/25000 - 6s - loss: 0.2065 - acc: 0.9277 - binary_crossentropy: 0.2065 - val_loss: 0.2832 - val_acc: 0.8882 - val_binary_crossentropy: 0.2832\n",
      "Epoch 7/20\n",
      "25000/25000 - 6s - loss: 0.1831 - acc: 0.9368 - binary_crossentropy: 0.1831 - val_loss: 0.2820 - val_acc: 0.8887 - val_binary_crossentropy: 0.2820\n",
      "Epoch 8/20\n",
      "25000/25000 - 6s - loss: 0.1649 - acc: 0.9436 - binary_crossentropy: 0.1649 - val_loss: 0.2856 - val_acc: 0.8867 - val_binary_crossentropy: 0.2856\n",
      "Epoch 9/20\n",
      "25000/25000 - 6s - loss: 0.1499 - acc: 0.9487 - binary_crossentropy: 0.1499 - val_loss: 0.2939 - val_acc: 0.8842 - val_binary_crossentropy: 0.2939\n",
      "Epoch 10/20\n",
      "25000/25000 - 5s - loss: 0.1372 - acc: 0.9542 - binary_crossentropy: 0.1372 - val_loss: 0.3002 - val_acc: 0.8843 - val_binary_crossentropy: 0.3002\n",
      "Epoch 11/20\n",
      "25000/25000 - 4s - loss: 0.1258 - acc: 0.9583 - binary_crossentropy: 0.1258 - val_loss: 0.3099 - val_acc: 0.8822 - val_binary_crossentropy: 0.3099\n",
      "Epoch 12/20\n",
      "25000/25000 - 3s - loss: 0.1158 - acc: 0.9625 - binary_crossentropy: 0.1158 - val_loss: 0.3240 - val_acc: 0.8787 - val_binary_crossentropy: 0.3240\n",
      "Epoch 13/20\n",
      "25000/25000 - 4s - loss: 0.1068 - acc: 0.9668 - binary_crossentropy: 0.1068 - val_loss: 0.3350 - val_acc: 0.8774 - val_binary_crossentropy: 0.3350\n",
      "Epoch 14/20\n",
      "25000/25000 - 4s - loss: 0.0990 - acc: 0.9694 - binary_crossentropy: 0.0990 - val_loss: 0.3482 - val_acc: 0.8761 - val_binary_crossentropy: 0.3482\n",
      "Epoch 15/20\n",
      "25000/25000 - 5s - loss: 0.0916 - acc: 0.9718 - binary_crossentropy: 0.0916 - val_loss: 0.3625 - val_acc: 0.8744 - val_binary_crossentropy: 0.3625\n",
      "Epoch 16/20\n",
      "25000/25000 - 5s - loss: 0.0852 - acc: 0.9746 - binary_crossentropy: 0.0852 - val_loss: 0.3783 - val_acc: 0.8725 - val_binary_crossentropy: 0.3783\n",
      "Epoch 17/20\n",
      "25000/25000 - 5s - loss: 0.0779 - acc: 0.9778 - binary_crossentropy: 0.0779 - val_loss: 0.3939 - val_acc: 0.8708 - val_binary_crossentropy: 0.3939\n",
      "Epoch 18/20\n",
      "25000/25000 - 5s - loss: 0.0720 - acc: 0.9810 - binary_crossentropy: 0.0720 - val_loss: 0.4120 - val_acc: 0.8688 - val_binary_crossentropy: 0.4120\n",
      "Epoch 19/20\n",
      "25000/25000 - 5s - loss: 0.0667 - acc: 0.9831 - binary_crossentropy: 0.0667 - val_loss: 0.4282 - val_acc: 0.8681 - val_binary_crossentropy: 0.4282\n",
      "Epoch 20/20\n",
      "25000/25000 - 4s - loss: 0.0615 - acc: 0.9847 - binary_crossentropy: 0.0615 - val_loss: 0.4469 - val_acc: 0.8670 - val_binary_crossentropy: 0.4469\n"
     ]
    }
   ],
   "source": [
    "smaller_history = smaller_model.fit(train_data,\n",
    "                                    train_labels,\n",
    "                                    epochs=20,\n",
    "                                    batch_size=512,\n",
    "                                    validation_data=(test_data, test_labels),\n",
    "                                    verbose=2)"
   ]
  },
  {
   "cell_type": "markdown",
   "metadata": {
    "colab_type": "text",
    "id": "vIPuf23FFaVn"
   },
   "source": [
    "### Create a bigger model\n",
    "\n",
    "As an exercise, you can create an even larger model, and see how quickly it begins overfitting.  Next, let's add to this benchmark a network that has much more capacity, far more than the problem would warrant:"
   ]
  },
  {
   "cell_type": "code",
   "execution_count": 8,
   "metadata": {
    "colab": {},
    "colab_type": "code",
    "id": "ghQwwqwqvQM9"
   },
   "outputs": [
    {
     "name": "stdout",
     "output_type": "stream",
     "text": [
      "Model: \"sequential_2\"\n",
      "_________________________________________________________________\n",
      "Layer (type)                 Output Shape              Param #   \n",
      "=================================================================\n",
      "dense_6 (Dense)              (None, 512)               5120512   \n",
      "_________________________________________________________________\n",
      "dense_7 (Dense)              (None, 512)               262656    \n",
      "_________________________________________________________________\n",
      "dense_8 (Dense)              (None, 1)                 513       \n",
      "=================================================================\n",
      "Total params: 5,383,681\n",
      "Trainable params: 5,383,681\n",
      "Non-trainable params: 0\n",
      "_________________________________________________________________\n"
     ]
    }
   ],
   "source": [
    "bigger_model = keras.models.Sequential([\n",
    "    keras.layers.Dense(512, activation=tf.nn.relu, input_shape=(NUM_WORDS,)),\n",
    "  \n",
    "    keras.layers.Dense(512, activation=tf.nn.relu),\n",
    "    keras.layers.Dense(1, activation=tf.nn.sigmoid)\n",
    "])\n",
    "\n",
    "bigger_model.compile(optimizer='adam',\n",
    "                     loss='binary_crossentropy',\n",
    "                     metrics=['accuracy','binary_crossentropy'])\n",
    "\n",
    "bigger_model.summary()"
   ]
  },
  {
   "cell_type": "markdown",
   "metadata": {
    "colab_type": "text",
    "id": "D-d-i5DaYmr7"
   },
   "source": [
    "And, again, train the model using the same data:"
   ]
  },
  {
   "cell_type": "code",
   "execution_count": 9,
   "metadata": {
    "colab": {},
    "colab_type": "code",
    "id": "U1A99dhqvepf"
   },
   "outputs": [
    {
     "name": "stdout",
     "output_type": "stream",
     "text": [
      "Train on 25000 samples, validate on 25000 samples\n",
      "Epoch 1/20\n",
      "25000/25000 - 18s - loss: 0.3397 - acc: 0.8561 - binary_crossentropy: 0.3397 - val_loss: 0.2943 - val_acc: 0.8804 - val_binary_crossentropy: 0.2943\n",
      "Epoch 2/20\n",
      "25000/25000 - 16s - loss: 0.1416 - acc: 0.9494 - binary_crossentropy: 0.1416 - val_loss: 0.3357 - val_acc: 0.8718 - val_binary_crossentropy: 0.3357\n",
      "Epoch 3/20\n",
      "25000/25000 - 15s - loss: 0.0456 - acc: 0.9873 - binary_crossentropy: 0.0456 - val_loss: 0.4565 - val_acc: 0.8676 - val_binary_crossentropy: 0.4565\n",
      "Epoch 4/20\n",
      "25000/25000 - 18s - loss: 0.0068 - acc: 0.9991 - binary_crossentropy: 0.0068 - val_loss: 0.6046 - val_acc: 0.8681 - val_binary_crossentropy: 0.6046\n",
      "Epoch 5/20\n",
      "25000/25000 - 17s - loss: 9.6492e-04 - acc: 1.0000 - binary_crossentropy: 9.6492e-04 - val_loss: 0.6871 - val_acc: 0.8710 - val_binary_crossentropy: 0.6871\n",
      "Epoch 6/20\n",
      "25000/25000 - 18s - loss: 2.3198e-04 - acc: 1.0000 - binary_crossentropy: 2.3198e-04 - val_loss: 0.7389 - val_acc: 0.8700 - val_binary_crossentropy: 0.7389\n",
      "Epoch 7/20\n",
      "25000/25000 - 18s - loss: 1.3083e-04 - acc: 1.0000 - binary_crossentropy: 1.3083e-04 - val_loss: 0.7710 - val_acc: 0.8701 - val_binary_crossentropy: 0.7710\n",
      "Epoch 8/20\n",
      "25000/25000 - 16s - loss: 9.2944e-05 - acc: 1.0000 - binary_crossentropy: 9.2944e-05 - val_loss: 0.7956 - val_acc: 0.8701 - val_binary_crossentropy: 0.7956\n",
      "Epoch 9/20\n",
      "25000/25000 - 23s - loss: 7.0758e-05 - acc: 1.0000 - binary_crossentropy: 7.0758e-05 - val_loss: 0.8155 - val_acc: 0.8700 - val_binary_crossentropy: 0.8155\n",
      "Epoch 10/20\n",
      "25000/25000 - 21s - loss: 5.6135e-05 - acc: 1.0000 - binary_crossentropy: 5.6135e-05 - val_loss: 0.8330 - val_acc: 0.8701 - val_binary_crossentropy: 0.8330\n",
      "Epoch 11/20\n",
      "25000/25000 - 19s - loss: 4.5463e-05 - acc: 1.0000 - binary_crossentropy: 4.5463e-05 - val_loss: 0.8497 - val_acc: 0.8700 - val_binary_crossentropy: 0.8497\n",
      "Epoch 12/20\n",
      "25000/25000 - 20s - loss: 3.7711e-05 - acc: 1.0000 - binary_crossentropy: 3.7711e-05 - val_loss: 0.8640 - val_acc: 0.8702 - val_binary_crossentropy: 0.8640\n",
      "Epoch 13/20\n",
      "25000/25000 - 20s - loss: 3.1403e-05 - acc: 1.0000 - binary_crossentropy: 3.1403e-05 - val_loss: 0.8780 - val_acc: 0.8703 - val_binary_crossentropy: 0.8780\n",
      "Epoch 14/20\n",
      "25000/25000 - 21s - loss: 2.6457e-05 - acc: 1.0000 - binary_crossentropy: 2.6457e-05 - val_loss: 0.8927 - val_acc: 0.8703 - val_binary_crossentropy: 0.8927\n",
      "Epoch 15/20\n",
      "25000/25000 - 19s - loss: 2.2294e-05 - acc: 1.0000 - binary_crossentropy: 2.2294e-05 - val_loss: 0.9070 - val_acc: 0.8704 - val_binary_crossentropy: 0.9070\n",
      "Epoch 16/20\n",
      "25000/25000 - 20s - loss: 1.8860e-05 - acc: 1.0000 - binary_crossentropy: 1.8860e-05 - val_loss: 0.9225 - val_acc: 0.8703 - val_binary_crossentropy: 0.9225\n",
      "Epoch 17/20\n",
      "25000/25000 - 20s - loss: 1.5881e-05 - acc: 1.0000 - binary_crossentropy: 1.5881e-05 - val_loss: 0.9382 - val_acc: 0.8703 - val_binary_crossentropy: 0.9382\n",
      "Epoch 18/20\n",
      "25000/25000 - 19s - loss: 1.3399e-05 - acc: 1.0000 - binary_crossentropy: 1.3399e-05 - val_loss: 0.9541 - val_acc: 0.8704 - val_binary_crossentropy: 0.9541\n",
      "Epoch 19/20\n",
      "25000/25000 - 16s - loss: 1.1319e-05 - acc: 1.0000 - binary_crossentropy: 1.1319e-05 - val_loss: 0.9701 - val_acc: 0.8707 - val_binary_crossentropy: 0.9701\n",
      "Epoch 20/20\n",
      "25000/25000 - 18s - loss: 9.6098e-06 - acc: 1.0000 - binary_crossentropy: 9.6098e-06 - val_loss: 0.9862 - val_acc: 0.8705 - val_binary_crossentropy: 0.9862\n"
     ]
    }
   ],
   "source": [
    "bigger_history = bigger_model.fit(train_data, train_labels,\n",
    "                                  epochs=20,\n",
    "                                  batch_size=512,\n",
    "                                  validation_data=(test_data, test_labels),\n",
    "                                  verbose=2)"
   ]
  },
  {
   "cell_type": "markdown",
   "metadata": {
    "colab_type": "text",
    "id": "Fy3CMUZpzH3d"
   },
   "source": [
    "### Plot the training and validation loss\n",
    "\n",
    "<!--TODO(markdaoust): This should be a one-liner with tensorboard -->"
   ]
  },
  {
   "cell_type": "markdown",
   "metadata": {
    "colab_type": "text",
    "id": "HSlo1F4xHuuM"
   },
   "source": [
    "The solid lines show the training loss, and the dashed lines show the validation loss (remember: a lower validation loss indicates a better model). Here, the smaller network begins overfitting later than the baseline model (after 6 epochs rather than 4) and its performance degrades much more slowly once it starts overfitting."
   ]
  },
  {
   "cell_type": "code",
   "execution_count": 10,
   "metadata": {
    "colab": {},
    "colab_type": "code",
    "id": "0XmKDtOWzOpk"
   },
   "outputs": [
    {
     "data": {
      "image/png": "[encoded data removed]",
      "text/plain": [
       "<Figure size 1152x720 with 1 Axes>"
      ]
     },
     "metadata": {
      "needs_background": "light"
     },
     "output_type": "display_data"
    }
   ],
   "source": [
    "def plot_history(histories, key='binary_crossentropy'):\n",
    "  plt.figure(figsize=(16,10))\n",
    "\n",
    "  for name, history in histories:\n",
    "    val = plt.plot(history.epoch, history.history['val_'+key],\n",
    "                   '--', label=name.title()+' Val')\n",
    "    plt.plot(history.epoch, history.history[key], color=val[0].get_color(),\n",
    "             label=name.title()+' Train')\n",
    "\n",
    "  plt.xlabel('Epochs')\n",
    "  plt.ylabel(key.replace('_',' ').title())\n",
    "  plt.legend()\n",
    "\n",
    "  plt.xlim([0,max(history.epoch)])\n",
    "\n",
    "\n",
    "plot_history([('baseline', baseline_history),\n",
    "              ('smaller', smaller_history),\n",
    "              ('bigger', bigger_history)])"
   ]
  },
  {
   "cell_type": "markdown",
   "metadata": {
    "colab_type": "text",
    "id": "Bi6hBhdnSfjA"
   },
   "source": [
    "Notice that the larger network begins overfitting almost right away, after just one epoch, and overfits much more severely. The more capacity the network has, the quicker it will be able to model the training data (resulting in a low training loss), but the more susceptible it is to overfitting (resulting in a large difference between the training and validation loss)."
   ]
  },
  {
   "cell_type": "markdown",
   "metadata": {
    "colab_type": "text",
    "id": "ASdv7nsgEFhx"
   },
   "source": [
    "## Strategies"
   ]
  },
  {
   "cell_type": "markdown",
   "metadata": {
    "colab_type": "text",
    "id": "4rHoVWcswFLa"
   },
   "source": [
    "### Add weight regularization\n",
    "\n"
   ]
  },
  {
   "cell_type": "markdown",
   "metadata": {
    "colab_type": "text",
    "id": "kRxWepNawbBK"
   },
   "source": [
    "You may be familiar with Occam's Razor principle: given two explanations for something, the explanation most likely to be correct is the \"simplest\" one, the one that makes the least amount of assumptions. This also applies to the models learned by neural networks: given some training data and a network architecture, there are multiple sets of weights values (multiple models) that could explain the data, and simpler models are less likely to overfit than complex ones.\n",
    "\n",
    "A \"simple model\" in this context is a model where the distribution of parameter values has less entropy (or a model with fewer parameters altogether, as we saw in the section above). Thus a common way to mitigate overfitting is to put constraints on the complexity of a network by forcing its weights only to take small values, which makes the distribution of weight values more \"regular\". This is called \"weight regularization\", and it is done by adding to the loss function of the network a cost associated with having large weights. This cost comes in two flavors:\n",
    "\n",
    "* [L1 regularization](https://developers.google.com/machine-learning/glossary/#L1_regularization), where the cost added is proportional to the absolute value of the weights coefficients (i.e. to what is called the \"L1 norm\" of the weights).\n",
    "\n",
    "* [L2 regularization](https://developers.google.com/machine-learning/glossary/#L2_regularization), where the cost added is proportional to the square of the value of the weights coefficients (i.e. to what is called the squared \"L2 norm\" of the weights). L2 regularization is also called weight decay in the context of neural networks. Don't let the different name confuse you: weight decay is mathematically the exact same as L2 regularization.\n",
    "\n",
    "In `tf.keras`, weight regularization is added by passing weight regularizer instances to layers as keyword arguments. Let's add L2 weight regularization now."
   ]
  },
  {
   "cell_type": "code",
   "execution_count": 11,
   "metadata": {
    "colab": {},
    "colab_type": "code",
    "id": "HFGmcwduwVyQ"
   },
   "outputs": [
    {
     "name": "stdout",
     "output_type": "stream",
     "text": [
      "Train on 25000 samples, validate on 25000 samples\n",
      "Epoch 1/20\n",
      "25000/25000 - 9s - loss: 0.5163 - acc: 0.8116 - binary_crossentropy: 0.4755 - val_loss: 0.3769 - val_acc: 0.8780 - val_binary_crossentropy: 0.3346\n",
      "Epoch 2/20\n",
      "25000/25000 - 7s - loss: 0.2993 - acc: 0.9098 - binary_crossentropy: 0.2536 - val_loss: 0.3333 - val_acc: 0.8868 - val_binary_crossentropy: 0.2848\n",
      "Epoch 3/20\n",
      "25000/25000 - 9s - loss: 0.2452 - acc: 0.9302 - binary_crossentropy: 0.1943 - val_loss: 0.3381 - val_acc: 0.8855 - val_binary_crossentropy: 0.2855\n",
      "Epoch 4/20\n",
      "25000/25000 - 7s - loss: 0.2222 - acc: 0.9416 - binary_crossentropy: 0.1680 - val_loss: 0.3571 - val_acc: 0.8795 - val_binary_crossentropy: 0.3016\n",
      "Epoch 5/20\n",
      "25000/25000 - 5s - loss: 0.2067 - acc: 0.9500 - binary_crossentropy: 0.1501 - val_loss: 0.3697 - val_acc: 0.8757 - val_binary_crossentropy: 0.3121\n",
      "Epoch 6/20\n",
      "25000/25000 - 6s - loss: 0.1952 - acc: 0.9550 - binary_crossentropy: 0.1367 - val_loss: 0.3824 - val_acc: 0.8750 - val_binary_crossentropy: 0.3233\n",
      "Epoch 7/20\n",
      "25000/25000 - 11s - loss: 0.1882 - acc: 0.9573 - binary_crossentropy: 0.1284 - val_loss: 0.4048 - val_acc: 0.8709 - val_binary_crossentropy: 0.3443\n",
      "Epoch 8/20\n",
      "25000/25000 - 8s - loss: 0.1821 - acc: 0.9594 - binary_crossentropy: 0.1209 - val_loss: 0.4152 - val_acc: 0.8706 - val_binary_crossentropy: 0.3536\n",
      "Epoch 9/20\n",
      "25000/25000 - 9s - loss: 0.1765 - acc: 0.9611 - binary_crossentropy: 0.1142 - val_loss: 0.4341 - val_acc: 0.8652 - val_binary_crossentropy: 0.3713\n",
      "Epoch 10/20\n",
      "25000/25000 - 9s - loss: 0.1720 - acc: 0.9637 - binary_crossentropy: 0.1089 - val_loss: 0.4434 - val_acc: 0.8663 - val_binary_crossentropy: 0.3797\n",
      "Epoch 11/20\n",
      "25000/25000 - 8s - loss: 0.1676 - acc: 0.9660 - binary_crossentropy: 0.1035 - val_loss: 0.4578 - val_acc: 0.8638 - val_binary_crossentropy: 0.3932\n",
      "Epoch 12/20\n",
      "25000/25000 - 8s - loss: 0.1645 - acc: 0.9655 - binary_crossentropy: 0.0995 - val_loss: 0.4737 - val_acc: 0.8620 - val_binary_crossentropy: 0.4084\n",
      "Epoch 13/20\n",
      "25000/25000 - 9s - loss: 0.1603 - acc: 0.9696 - binary_crossentropy: 0.0946 - val_loss: 0.4852 - val_acc: 0.8613 - val_binary_crossentropy: 0.4193\n",
      "Epoch 14/20\n",
      "25000/25000 - 8s - loss: 0.1581 - acc: 0.9688 - binary_crossentropy: 0.0918 - val_loss: 0.5028 - val_acc: 0.8585 - val_binary_crossentropy: 0.4362\n",
      "Epoch 15/20\n",
      "25000/25000 - 7s - loss: 0.1576 - acc: 0.9691 - binary_crossentropy: 0.0908 - val_loss: 0.5218 - val_acc: 0.8594 - val_binary_crossentropy: 0.4544\n",
      "Epoch 16/20\n",
      "25000/25000 - 7s - loss: 0.1551 - acc: 0.9701 - binary_crossentropy: 0.0870 - val_loss: 0.5336 - val_acc: 0.8551 - val_binary_crossentropy: 0.4652\n",
      "Epoch 17/20\n",
      "25000/25000 - 7s - loss: 0.1529 - acc: 0.9705 - binary_crossentropy: 0.0846 - val_loss: 0.5418 - val_acc: 0.8562 - val_binary_crossentropy: 0.4734\n",
      "Epoch 18/20\n",
      "25000/25000 - 6s - loss: 0.1533 - acc: 0.9706 - binary_crossentropy: 0.0842 - val_loss: 0.5796 - val_acc: 0.8525 - val_binary_crossentropy: 0.5102\n",
      "Epoch 19/20\n",
      "25000/25000 - 6s - loss: 0.1539 - acc: 0.9692 - binary_crossentropy: 0.0842 - val_loss: 0.5636 - val_acc: 0.8547 - val_binary_crossentropy: 0.4934\n",
      "Epoch 20/20\n",
      "25000/25000 - 5s - loss: 0.1451 - acc: 0.9753 - binary_crossentropy: 0.0749 - val_loss: 0.5733 - val_acc: 0.8543 - val_binary_crossentropy: 0.5035\n"
     ]
    }
   ],
   "source": [
    "l2_model = keras.models.Sequential([\n",
    "    keras.layers.Dense(16, kernel_regularizer=keras.regularizers.l2(0.001),\n",
    "                       activation=tf.nn.relu, input_shape=(NUM_WORDS,)),\n",
    "    keras.layers.Dense(16, kernel_regularizer=keras.regularizers.l2(0.001),\n",
    "                       activation=tf.nn.relu),\n",
    "    keras.layers.Dense(1, activation=tf.nn.sigmoid)\n",
    "])\n",
    "\n",
    "l2_model.compile(optimizer='adam',\n",
    "                 loss='binary_crossentropy',\n",
    "                 metrics=['accuracy', 'binary_crossentropy'])\n",
    "\n",
    "l2_model_history = l2_model.fit(train_data, train_labels,\n",
    "                                epochs=20,\n",
    "                                batch_size=512,\n",
    "                                validation_data=(test_data, test_labels),\n",
    "                                verbose=2)"
   ]
  },
  {
   "cell_type": "markdown",
   "metadata": {
    "colab_type": "text",
    "id": "bUUHoXb7w-_C"
   },
   "source": [
    "```l2(0.001)``` means that every coefficient in the weight matrix of the layer will add ```0.001 * weight_coefficient_value**2``` to the total loss of the network. Note that because this penalty is only added at training time, the loss for this network will be much higher at training than at test time.\n",
    "\n",
    "Here's the impact of our L2 regularization penalty:"
   ]
  },
  {
   "cell_type": "code",
   "execution_count": 0,
   "metadata": {
    "colab": {},
    "colab_type": "code",
    "id": "7wkfLyxBZdh_"
   },
   "outputs": [],
   "source": [
    "plot_history([('baseline', baseline_history),\n",
    "              ('l2', l2_model_history)])"
   ]
  },
  {
   "cell_type": "markdown",
   "metadata": {
    "colab_type": "text",
    "id": "Kx1YHMsVxWjP"
   },
   "source": [
    "As you can see, the L2 regularized model has become much more resistant to overfitting than the baseline model, even though both models have the same number of parameters."
   ]
  },
  {
   "cell_type": "markdown",
   "metadata": {
    "colab_type": "text",
    "id": "HmnBNOOVxiG8"
   },
   "source": [
    "### Add dropout\n",
    "\n",
    "Dropout is one of the most effective and most commonly used regularization techniques for neural networks, developed by Hinton and his students at the University of Toronto. Dropout, applied to a layer, consists of randomly \"dropping out\" (i.e. set to zero) a number of output features of the layer during training. Let's say a given layer would normally have returned a vector [0.2, 0.5, 1.3, 0.8, 1.1] for a given input sample during training; after applying dropout, this vector will have a few zero entries distributed at random, e.g. [0, 0.5,\n",
    "1.3, 0, 1.1]. The \"dropout rate\" is the fraction of the features that are being zeroed-out; it is usually set between 0.2 and 0.5. At test time, no units are dropped out, and instead the layer's output values are scaled down by a factor equal to the dropout rate, so as to balance for the fact that more units are active than at training time.\n",
    "\n",
    "In tf.keras you can introduce dropout in a network via the Dropout layer, which gets applied to the output of layer right before.\n",
    "\n",
    "Let's add two Dropout layers in our IMDB network to see how well they do at reducing overfitting:"
   ]
  },
  {
   "cell_type": "code",
   "execution_count": 0,
   "metadata": {
    "colab": {},
    "colab_type": "code",
    "id": "OFEYvtrHxSWS"
   },
   "outputs": [],
   "source": [
    "dpt_model = keras.models.Sequential([\n",
    "    keras.layers.Dense(16, activation=tf.nn.relu, input_shape=(NUM_WORDS,)),\n",
    "    keras.layers.Dropout(0.5),\n",
    "    keras.layers.Dense(16, activation=tf.nn.relu),\n",
    "    keras.layers.Dropout(0.5),\n",
    "    keras.layers.Dense(1, activation=tf.nn.sigmoid)\n",
    "])\n",
    "\n",
    "dpt_model.compile(optimizer='adam',\n",
    "                  loss='binary_crossentropy',\n",
    "                  metrics=['accuracy','binary_crossentropy'])\n",
    "\n",
    "dpt_model_history = dpt_model.fit(train_data, train_labels,\n",
    "                                  epochs=20,\n",
    "                                  batch_size=512,\n",
    "                                  validation_data=(test_data, test_labels),\n",
    "                                  verbose=2)"
   ]
  },
  {
   "cell_type": "code",
   "execution_count": 0,
   "metadata": {
    "colab": {},
    "colab_type": "code",
    "id": "SPZqwVchx5xp"
   },
   "outputs": [],
   "source": [
    "plot_history([('baseline', baseline_history),\n",
    "              ('dropout', dpt_model_history)])"
   ]
  },
  {
   "cell_type": "markdown",
   "metadata": {
    "colab_type": "text",
    "id": "gjfnkEeQyAFG"
   },
   "source": [
    "Adding dropout is a clear improvement over the baseline model.\n",
    "\n",
    "\n",
    "To recap: here the most common ways to prevent overfitting in neural networks:\n",
    "\n",
    "* Get more training data.\n",
    "* Reduce the capacity of the network.\n",
    "* Add weight regularization.\n",
    "* Add dropout.\n",
    "\n",
    "And two important approaches not covered in this guide are data-augmentation and batch normalization."
   ]
  }
 ],
 "metadata": {
  "accelerator": "GPU",
  "colab": {
   "collapsed_sections": [
    "fTFj8ft5dlbS"
   ],
   "name": "overfit_and_underfit.ipynb",
   "private_outputs": true,
   "provenance": [],
   "toc_visible": true,
   "version": "0.3.2"
  },
  "kernelspec": {
   "display_name": "Python 3",
   "language": "python",
   "name": "python3"
  },
  "language_info": {
   "codemirror_mode": {
    "name": "ipython",
    "version": 3
   },
   "file_extension": ".py",
   "mimetype": "text/x-python",
   "name": "python",
   "nbconvert_exporter": "python",
   "pygments_lexer": "ipython3",
   "version": "3.7.2"
  }
 },
 "nbformat": 4,
 "nbformat_minor": 1
}
